{
 "cells": [
  {
   "cell_type": "code",
   "execution_count": 1,
   "source": [
    "import torch\n",
    "from torch.utils.data import DataLoader\n",
    "\n",
    "from model.encoder import Encoder\n",
    "from model.decoder import Decoder\n",
    "from datautil.waymo_dataset import WaymoDataset\n",
    "from datautil.waymo_rast_dataset import waymo_raster_collate_fn\n",
    "\n",
    "dataset = WaymoDataset('./data/tfrecords', './data/idxs')\n",
    "dataloader = DataLoader(dataset, batch_size=1, collate_fn=lambda x: waymo_raster_collate_fn(x))\n",
    "\n",
    "data0 = next(iter(dataloader))"
   ],
   "outputs": [],
   "metadata": {}
  },
  {
   "cell_type": "code",
   "execution_count": 4,
   "source": [
    "scene_img_batch, tgt_img_batch, agent_points_batch, states_feat_batch, agents_batch_mask, \\\n",
    "                states_padding_mask_batch, (states_hidden_mask_BP_batch,states_hidden_mask_CBP_batch,states_hidden_mask_GDP_batch) = data0"
   ],
   "outputs": [],
   "metadata": {}
  },
  {
   "cell_type": "code",
   "execution_count": 15,
   "source": [
    "print(scene_img_batch.shape)\n",
    "message = 'scene img : [6,500,500]. \\n6-channel image input : \\n\\t 0: drivable area \\n\\t 1: centerline \\n\\t 2: road lane \\n\\t 3: red lights \\\n",
    "\\n\\t 4: yellow lights \\n\\t 5: green lights'\n",
    "print(message)\n",
    "print('')\n",
    "print(tgt_img_batch.shape)\n",
    "message = 'tgt_img : [num_agents,500,500]. \\noccupied map img with line width 1'\n",
    "print(message)\n",
    "print('')\n",
    "print(agent_points_batch.shape)\n",
    "message = 'agent points : [num_agents,4]. \\neach agent\\'s start(current) point and end point \\nstart_x, start_y, end_x, end_y'\n",
    "print(message)\n",
    "print('')\n",
    "print(states_feat_batch.shape)\n",
    "message = 'states feat : [num_agent,time_steps,9]. \\number of ntime steps is 91. \\n9-channel input: \\n\\t (x,y,bbox_yaw,vel_x,vel_y,vel_yaw,width,length,timestamp)'\n",
    "print(message)\n",
    "print('')\n",
    "print(agents_batch_mask.shape)\n",
    "message = 'agents batch mask : [num_agent,num_agent]. \\nagent-to-agent mask. If two agents are from different scenes, it is False, else, True'\n",
    "print(message)\n",
    "print('')\n",
    "print(states_padding_mask_batch.shape)\n",
    "message = 'state padding mask : [num_agent,time_steps]. \\nif state value is invalid in specific time step, it is False, else, True'\n",
    "print(message)\n",
    "print('')\n",
    "print(states_hidden_mask_BP_batch.shape)\n",
    "message = 'states hidden mask : [num_agent,time_steps]. \\nfollowing scene transformer, True mean that value is masked to be inferred'\n",
    "print(message)"
   ],
   "outputs": [
    {
     "output_type": "stream",
     "name": "stdout",
     "text": [
      "(6, 500, 500)\n",
      "scene img : [6,500,500]. \n",
      "6-channel image input : \n",
      "\t 0: drivable area \n",
      "\t 1: centerline \n",
      "\t 2: road lane \n",
      "\t 3: red lights \n",
      "\t 4: yellow lights \n",
      "\t 5: green lights\n",
      "\n",
      "(20, 500, 500)\n",
      "tgt_img : [num_agents,500,500]. \n",
      "occupied map img with line width 1\n",
      "\n",
      "(20, 4)\n",
      "agent points : [num_agents,4]. \n",
      "each agent's start(current) point and end point \n",
      "start_x, start_y, end_x, end_y\n",
      "\n",
      "(20, 91, 9)\n",
      "states feat : [num_agent,time_steps,9]. \n",
      "umber of ntime steps is 91. \n",
      "9-channel input: \n",
      "\t (x,y,bbox_yaw,vel_x,vel_y,vel_yaw,width,length,timestamp)\n",
      "\n",
      "(20, 20)\n",
      "agents batch mask : [num_agent,num_agent]. \n",
      "agent-to-agent mask. If two agents are from different scenes, it is False, else, True\n",
      "\n",
      "(20, 91)\n",
      "state padding mask : [num_agent,time_steps]. \n",
      "if state value is invalid in specific time step, it is False, else, True\n",
      "\n",
      "(20, 91)\n",
      "states hidden mask : [num_agent,time_steps]. \n",
      "following scene transformer, True mean that value is masked to be inferred\n"
     ]
    }
   ],
   "metadata": {}
  }
 ],
 "metadata": {
  "orig_nbformat": 4,
  "language_info": {
   "name": "python",
   "version": "3.7.10",
   "mimetype": "text/x-python",
   "codemirror_mode": {
    "name": "ipython",
    "version": 3
   },
   "pygments_lexer": "ipython3",
   "nbconvert_exporter": "python",
   "file_extension": ".py"
  },
  "kernelspec": {
   "name": "python3",
   "display_name": "Python 3.7.10 64-bit ('base': conda)"
  },
  "interpreter": {
   "hash": "97a78a4e4847bcd3012bc38194af59d45dfe518ac95abf5f0758243f1884d290"
  }
 },
 "nbformat": 4,
 "nbformat_minor": 2
}